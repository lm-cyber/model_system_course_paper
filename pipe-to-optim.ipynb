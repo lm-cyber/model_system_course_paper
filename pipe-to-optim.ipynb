{
 "cells": [
  {
   "cell_type": "code",
   "execution_count": 1,
   "metadata": {
    "_cell_guid": "b1076dfc-b9ad-4769-8c92-a6c4dae69d19",
    "_uuid": "8f2839f25d086af736a60e9eeb907d3b93b6e0e5"
   },
   "outputs": [
    {
     "name": "stderr",
     "output_type": "stream",
     "text": [
      "/home/void/test/venv/lib/python3.12/site-packages/transformers/utils/deprecation.py:165: UserWarning: The following named arguments are not valid for `SegformerImageProcessor.__init__` and were ignored: 'feature_extractor_type'\n",
      "  return func(*args, **kwargs)\n"
     ]
    }
   ],
   "source": [
    "from transformers import SegformerImageProcessor, SegformerForSemanticSegmentation\n",
    "from PIL import Image\n",
    "import json\n",
    "from huggingface_hub import hf_hub_download\n",
    "import requests, zipfile, io\n",
    "from datasets import load_dataset\n",
    "from torch.utils.data import Dataset\n",
    "import os\n",
    "from PIL import Image\n",
    "from torch.utils.data import DataLoader\n",
    "import evaluate\n",
    "import torch\n",
    "from torch import nn\n",
    "from sklearn.metrics import accuracy_score\n",
    "from tqdm import tqdm\n",
    "import matplotlib.pyplot as plt\n",
    "import pandas as pd\n",
    "import numpy as np\n",
    "from transformers import (\n",
    "    AutoImageProcessor,\n",
    "    SegformerForSemanticSegmentation,\n",
    ")\n",
    "from torch.utils.tensorboard.writer import SummaryWriter\n",
    "\n",
    "processor = SegformerImageProcessor.from_pretrained(\"nvidia/segformer-b0-finetuned-ade-512-512\")\n",
    "model = SegformerForSemanticSegmentation.from_pretrained(\"nvidia/segformer-b0-finetuned-ade-512-512\")\n",
    "from tqdm import tqdm \n",
    "\n",
    "device = 'cuda'\n",
    "model.to(device)\n",
    "None"
   ]
  },
  {
   "cell_type": "code",
   "execution_count": 2,
   "metadata": {},
   "outputs": [
    {
     "name": "stdout",
     "output_type": "stream",
     "text": [
      "training  validation\n"
     ]
    }
   ],
   "source": [
    "!ls ADEChallengeData2016/annotations"
   ]
  },
  {
   "cell_type": "code",
   "execution_count": 3,
   "metadata": {},
   "outputs": [],
   "source": [
    "# !cat ADEChallengeData2016/objectInfo150.txt"
   ]
  },
  {
   "cell_type": "code",
   "execution_count": 4,
   "metadata": {},
   "outputs": [],
   "source": [
    "from torch.utils.data import Dataset\n",
    "import os\n",
    "from PIL import Image\n",
    "\n",
    "class SemanticSegmentationDataset(Dataset):\n",
    "    \"\"\"Image (semantic) segmentation dataset.\"\"\"\n",
    "\n",
    "    def __init__(self, root_dir, image_processor, train=True):\n",
    "        \"\"\"\n",
    "        Args:\n",
    "            root_dir (string): Root directory of the dataset containing the images + annotations.\n",
    "            image_processor (SegFormerImageProcessor): image processor to prepare images + segmentation maps.\n",
    "            train (bool): Whether to load \"training\" or \"validation\" images + annotations.\n",
    "        \"\"\"\n",
    "        self.root_dir = root_dir\n",
    "        self.image_processor = image_processor\n",
    "        self.train = train\n",
    "\n",
    "        sub_path = \"training\" if self.train else \"validation\"\n",
    "        self.img_dir = os.path.join(self.root_dir, \"images\", sub_path)\n",
    "        print(self.img_dir)\n",
    "        self.ann_dir = os.path.join(self.root_dir, \"annotations\", sub_path)\n",
    "\n",
    "        # read images\n",
    "        image_file_names = []\n",
    "        for root, dirs, files in os.walk(self.img_dir):\n",
    "          image_file_names.extend(files)\n",
    "        self.images = sorted(image_file_names)\n",
    "\n",
    "        # read annotations\n",
    "        annotation_file_names = []\n",
    "        for root, dirs, files in os.walk(self.ann_dir):\n",
    "          annotation_file_names.extend(files)\n",
    "        self.annotations = sorted(annotation_file_names)\n",
    "\n",
    "        assert len(self.images) == len(self.annotations), \"There must be as many images as there are segmentation maps\"\n",
    "\n",
    "    def __len__(self):\n",
    "        return len(self.images)\n",
    "\n",
    "    def get_name_file(self,idx):\n",
    "        return os.path.join(self.img_dir, self.images[idx]),os.path.join(self.ann_dir, self.annotations[idx])\n",
    "\n",
    "    def __getitem__(self, idx):\n",
    "\n",
    "        image = Image.open(os.path.join(self.img_dir, self.images[idx]))\n",
    "        segmentation_map = Image.open(os.path.join(self.ann_dir, self.annotations[idx]))\n",
    "\n",
    "        # randomly crop + pad both image and segmentation map to same size\n",
    "        encoded_inputs = self.image_processor(image, segmentation_map, return_tensors=\"pt\")\n",
    "\n",
    "        for k,v in encoded_inputs.items():\n",
    "          encoded_inputs[k].squeeze_() # remove batch dimension\n",
    "\n",
    "        return encoded_inputs"
   ]
  },
  {
   "cell_type": "code",
   "execution_count": 42,
   "metadata": {},
   "outputs": [
    {
     "data": {
      "text/plain": [
       "(683, 512)"
      ]
     },
     "execution_count": 42,
     "metadata": {},
     "output_type": "execute_result"
    }
   ],
   "source": [
    "# segmentation_map = Image.open('ADEChallengeData2016/annotations/training/ADE_train_00000001.png')\n",
    "# segmentation_map.size"
   ]
  },
  {
   "cell_type": "code",
   "execution_count": 43,
   "metadata": {},
   "outputs": [
    {
     "data": {
      "text/plain": [
       "(683, 512)"
      ]
     },
     "execution_count": 43,
     "metadata": {},
     "output_type": "execute_result"
    }
   ],
   "source": [
    "# Image.fromarray(np.array(segmentation_map)-1).size"
   ]
  },
  {
   "cell_type": "code",
   "execution_count": 46,
   "metadata": {},
   "outputs": [
    {
     "data": {
      "text/plain": [
       "array([  0,   1,   4,   5,   6,  13,  18,  32,  33,  43,  44,  88,  97,\n",
       "       105, 126, 139, 150], dtype=uint8)"
      ]
     },
     "execution_count": 46,
     "metadata": {},
     "output_type": "execute_result"
    }
   ],
   "source": [
    "# np.unique(np.array(segmentation_map))"
   ]
  },
  {
   "cell_type": "code",
   "execution_count": 45,
   "metadata": {},
   "outputs": [
    {
     "data": {
      "text/plain": [
       "array([  0,   3,   4,   5,  12,  17,  31,  32,  42,  43,  87,  96, 104,\n",
       "       125, 138, 149, 255], dtype=uint8)"
      ]
     },
     "execution_count": 45,
     "metadata": {},
     "output_type": "execute_result"
    }
   ],
   "source": [
    "# np.unique(np.array(segmentation_map)-1)"
   ]
  },
  {
   "cell_type": "code",
   "execution_count": 35,
   "metadata": {},
   "outputs": [
    {
     "data": {
      "text/plain": [
       "('ADEChallengeData2016/images/training/ADE_train_00000001.jpg',\n",
       " 'ADEChallengeData2016/annotations/training/ADE_train_00000001.png')"
      ]
     },
     "execution_count": 35,
     "metadata": {},
     "output_type": "execute_result"
    }
   ],
   "source": [
    "# train_dataset.get_name_file(0)"
   ]
  },
  {
   "cell_type": "code",
   "execution_count": 5,
   "metadata": {},
   "outputs": [
    {
     "name": "stdout",
     "output_type": "stream",
     "text": [
      "ADEChallengeData2016/images/training\n",
      "ADEChallengeData2016/images/validation\n"
     ]
    }
   ],
   "source": [
    "from transformers import SegformerImageProcessor\n",
    "\n",
    "root_dir = 'ADEChallengeData2016'\n",
    "image_processor = SegformerImageProcessor(reduce_labels=True)\n",
    "\n",
    "train_dataset = SemanticSegmentationDataset(root_dir=root_dir, image_processor=image_processor)\n",
    "valid_dataset = SemanticSegmentationDataset(root_dir=root_dir, image_processor=image_processor, train=False)"
   ]
  },
  {
   "cell_type": "code",
   "execution_count": 6,
   "metadata": {},
   "outputs": [],
   "source": [
    "# corrapted = []\n",
    "# for i in tqdm(range(len(train_dataset))):\n",
    "#     try:\n",
    "#         train_dataset[i]\n",
    "#     except:\n",
    "#         corrapted.append(train_dataset.get_name_file(i))"
   ]
  },
  {
   "cell_type": "code",
   "execution_count": 7,
   "metadata": {},
   "outputs": [],
   "source": [
    "# rm_rf_str = []\n",
    "# for i in corrapted:\n",
    "#     rm_rf_str.extend(i)\n",
    "# rm_rf_str = ' '.join(rm_rf_str)\n",
    "# rm_rf_str\n",
    "                    "
   ]
  },
  {
   "cell_type": "code",
   "execution_count": null,
   "metadata": {},
   "outputs": [],
   "source": []
  },
  {
   "cell_type": "code",
   "execution_count": 8,
   "metadata": {},
   "outputs": [],
   "source": [
    "from torch.utils.data import DataLoader\n",
    "batch_size=8\n",
    "train_dataloader = DataLoader(train_dataset, batch_size=batch_size,num_workers=14, shuffle=True)\n",
    "valid_dataloader = DataLoader(valid_dataset, batch_size=batch_size,num_workers=14,)"
   ]
  },
  {
   "cell_type": "code",
   "execution_count": 9,
   "metadata": {},
   "outputs": [],
   "source": [
    "# model.config.id2label"
   ]
  },
  {
   "cell_type": "code",
   "execution_count": 10,
   "metadata": {},
   "outputs": [],
   "source": [
    "import os\n",
    "import typing as tp\n",
    "import torch\n",
    "\n",
    "from copy import deepcopy\n",
    "from torch import nn\n",
    "from torch.nn import functional as F\n",
    "# from tqdm.auto import tqdm\n",
    "\n",
    "\n",
    "\n",
    "from torch import nn\n",
    "from transformers.models.segformer.modeling_segformer import SegformerLayer"
   ]
  },
  {
   "cell_type": "code",
   "execution_count": 11,
   "metadata": {},
   "outputs": [],
   "source": [
    "from typing import Dict\n",
    "\n",
    "import torch\n",
    "# from evaluate import load_metric\n",
    "from torch import nn\n",
    "import evaluate\n",
    "from transformers import SegformerForSemanticSegmentation\n",
    "\n",
    "def evaluate_model(model, valid_dataloader, id2label):\n",
    "    metric = evaluate.load(\"mean_iou\")\n",
    "    predictions = []\n",
    "    references = []\n",
    "\n",
    "    with torch.no_grad():\n",
    "        model.eval()\n",
    "        for batch in valid_dataloader:\n",
    "            pixel_values = batch[\"pixel_values\"].cuda()\n",
    "            labels = batch[\"labels\"].cuda()\n",
    "            logits = model(pixel_values=pixel_values, labels=labels)\n",
    "            upsampled_logits = nn.functional.interpolate(\n",
    "                logits.logits, size=labels.shape[-2:], mode=\"bilinear\", align_corners=False\n",
    "            )\n",
    "            predicted = upsampled_logits.argmax(dim=1)\n",
    "            predictions.append(predicted.detach().cpu().numpy())\n",
    "            references.append(labels.detach().cpu().numpy())\n",
    "\n",
    "        # note that the metric expects predictions + labels as numpy arrays\n",
    "\n",
    "    metrics = metric._compute(\n",
    "        predictions=predictions,\n",
    "        references=references,\n",
    "        num_labels=len(id2label),\n",
    "        ignore_index=255,\n",
    "        reduce_labels=False,  # we've already reduced the labels before)\n",
    "    )\n",
    "\n",
    "    print(\"Mean_iou:\", metrics[\"mean_iou\"])\n",
    "    print(\"Mean accuracy:\", metrics[\"mean_accuracy\"])\n",
    "\n",
    "    return metrics\n"
   ]
  },
  {
   "cell_type": "code",
   "execution_count": 12,
   "metadata": {},
   "outputs": [
    {
     "name": "stdout",
     "output_type": "stream",
     "text": [
      "Mean_iou: 0.36103305469415725\n",
      "Mean accuracy: 0.4731817117838845\n"
     ]
    }
   ],
   "source": [
    "m = evaluate_model(model, valid_dataloader, model.config.id2label)"
   ]
  },
  {
   "cell_type": "code",
   "execution_count": 13,
   "metadata": {},
   "outputs": [],
   "source": [
    "teacher_model = model"
   ]
  },
  {
   "cell_type": "code",
   "execution_count": 14,
   "metadata": {},
   "outputs": [],
   "source": [
    "def create_small_network(model):\n",
    "    future_list_names = {}\n",
    "\n",
    "    for name, curr_module in model.named_modules():\n",
    "        if isinstance(curr_module, nn.ModuleList):\n",
    "            list_of_modules = [\n",
    "                sub_module\n",
    "                for sub_module in curr_module.children()\n",
    "                if isinstance(sub_module, SegformerLayer)\n",
    "            ]\n",
    "            if len(list_of_modules) > 1:\n",
    "                future_list_names[name] = nn.ModuleList([list_of_modules[-1]])\n",
    "\n",
    "    setattr(model.segformer.encoder, 'block', nn.ModuleList(list(future_list_names.values())))\n",
    "\n",
    "    return model\n",
    "\n",
    "def n_params(model):\n",
    "    return sum(p.numel() for p in model.parameters())"
   ]
  },
  {
   "cell_type": "code",
   "execution_count": 15,
   "metadata": {},
   "outputs": [],
   "source": [
    "student_model = create_small_network(deepcopy(teacher_model))"
   ]
  },
  {
   "cell_type": "code",
   "execution_count": 16,
   "metadata": {},
   "outputs": [
    {
     "data": {
      "text/plain": [
       "1.6062923168193761"
      ]
     },
     "execution_count": 16,
     "metadata": {},
     "output_type": "execute_result"
    }
   ],
   "source": [
    "n_params(teacher_model) / n_params(student_model)"
   ]
  },
  {
   "cell_type": "code",
   "execution_count": 17,
   "metadata": {},
   "outputs": [],
   "source": [
    "from dataclasses import dataclass\n",
    "\n",
    "@dataclass\n",
    "class TrainParams:\n",
    "    n_epochs: int\n",
    "    lr: float\n",
    "    batch_size: int\n",
    "    n_workers: int\n",
    "    device: torch.device\n",
    "\n",
    "    loss_weight: float\n",
    "    last_layer_loss_weight: float\n",
    "    intermediate_attn_layers_weights: tp.Tuple[float, float, float, float]\n",
    "    intermediate_feat_layers_weights: tp.Tuple[float, float, float, float]\n",
    "\n"
   ]
  },
  {
   "cell_type": "code",
   "execution_count": 22,
   "metadata": {},
   "outputs": [],
   "source": [
    "save_dir = 'distil'\n",
    "tb_writer = SummaryWriter(save_dir)\n",
    "def train(\n",
    "    teacher_model,\n",
    "    student_model,\n",
    "    train_params: TrainParams,\n",
    "    student_teacher_attention_mapping,\n",
    "    tb_writer=tb_writer,\n",
    "    save_dir='distil',\n",
    "):\n",
    "    metric = evaluate.load('mean_iou')\n",
    "    teacher_model.to(train_params.device)\n",
    "    student_model.to(train_params.device)\n",
    "\n",
    "    teacher_model.eval()\n",
    "\n",
    "    optimizer = torch.optim.AdamW(student_model.parameters(), lr=train_params.lr)\n",
    "    step = 0\n",
    "    for epoch in range(train_params.n_epochs):\n",
    "        pbar = tqdm(enumerate(train_dataloader), total=len(train_dataloader))\n",
    "        for idx, batch in pbar:\n",
    "            student_model.train()\n",
    "            # get the inputs;\n",
    "            pixel_values = batch['pixel_values'].to(train_params.device)\n",
    "            labels = batch['labels'].to(train_params.device)\n",
    "\n",
    "            optimizer.zero_grad()\n",
    "\n",
    "            # forward + backward + optimize\n",
    "            student_outputs = student_model(\n",
    "                pixel_values=pixel_values, \n",
    "                labels=labels, \n",
    "                output_attentions=True,\n",
    "                output_hidden_states=True,\n",
    "            )\n",
    "            loss, student_logits = student_outputs.loss, student_outputs.logits\n",
    "\n",
    "            # Чего это мы no_grad() при тренировке поставили?!\n",
    "            with torch.no_grad():\n",
    "                teacher_output = teacher_model(\n",
    "                    pixel_values=pixel_values, \n",
    "                    labels=labels, \n",
    "                    output_attentions=True,\n",
    "                    output_hidden_states=True,\n",
    "                )\n",
    "\n",
    "\n",
    "            last_layer_loss = calc_last_layer_loss(\n",
    "                student_logits,\n",
    "                teacher_output.logits,\n",
    "                train_params.last_layer_loss_weight,\n",
    "            )\n",
    "\n",
    "            student_attentions, teacher_attentions = student_outputs.attentions, teacher_output.attentions\n",
    "            student_hidden_states, teacher_hidden_states = student_outputs.hidden_states, teacher_output.hidden_states\n",
    "\n",
    "            intermediate_layer_att_loss = calc_intermediate_layers_attn_loss(\n",
    "                student_attentions,\n",
    "                teacher_attentions,\n",
    "                train_params.intermediate_attn_layers_weights,\n",
    "                student_teacher_attention_mapping,\n",
    "            )\n",
    "            \n",
    "            intermediate_layer_feat_loss = calc_intermediate_layers_feat_loss(\n",
    "                student_hidden_states,\n",
    "                teacher_hidden_states,\n",
    "                train_params.intermediate_feat_layers_weights,\n",
    "            )\n",
    "\n",
    "            total_loss = loss* train_params.loss_weight + last_layer_loss\n",
    "            if intermediate_layer_att_loss is not None:\n",
    "                total_loss += intermediate_layer_att_loss\n",
    "            \n",
    "            if intermediate_layer_feat_loss is not None:\n",
    "                total_loss += intermediate_layer_feat_loss\n",
    "\n",
    "            step += 1\n",
    "\n",
    "            total_loss.backward()\n",
    "            optimizer.step()\n",
    "            pbar.set_description(f'total loss: {total_loss.item():.3f}')\n",
    "\n",
    "            for loss_value, loss_name in (\n",
    "                (loss, 'loss'),\n",
    "                (total_loss, 'total_loss'),\n",
    "                (last_layer_loss, 'last_layer_loss'),\n",
    "                (intermediate_layer_att_loss, 'intermediate_layer_att_loss'),\n",
    "                (intermediate_layer_feat_loss, 'intermediate_layer_feat_loss'),\n",
    "            ):\n",
    "                if loss_value is None: # для выключенной дистилляции атеншенов\n",
    "                    continue\n",
    "                tb_writer.add_scalar(\n",
    "                    tag=loss_name,\n",
    "                    scalar_value=loss_value.item(),\n",
    "                    global_step=step,\n",
    "                )\n",
    "\n",
    "        torch.save(\n",
    "            {\n",
    "                'model': student_model,\n",
    "                'state_dict': student_model.state_dict(),\n",
    "                'optimizer_state': optimizer.state_dict(),\n",
    "            },\n",
    "            f'{save_dir}/ckpt_{epoch}.pth',\n",
    "        )\n",
    "\n",
    "        eval_metrics = evaluate_model(student_model, valid_dataloader, student_model.config.id2label)\n",
    "\n",
    "        for metric_key, metric_value in eval_metrics.items():\n",
    "            if not isinstance(metric_value, float):\n",
    "                continue\n",
    "            tb_writer.add_scalar(\n",
    "                tag=f'eval_{metric_key}',\n",
    "                scalar_value=metric_value,\n",
    "                global_step=epoch,\n",
    "            )\n"
   ]
  },
  {
   "cell_type": "code",
   "execution_count": 73,
   "metadata": {},
   "outputs": [],
   "source": [
    "mse_loss = nn.MSELoss()\n",
    "kl_loss = nn.KLDivLoss()\n",
    "\n",
    "def calc_last_layer_loss(student_logits, teacher_logits, weight):\n",
    "    return mse_loss(student_logits, teacher_logits) * weight\n",
    "    \n",
    "\n"
   ]
  },
  {
   "cell_type": "code",
   "execution_count": 24,
   "metadata": {},
   "outputs": [],
   "source": [
    "student_teacher_attention_mapping = {0: 1, 1: 3, 2: 5, 3: 7}"
   ]
  },
  {
   "cell_type": "code",
   "execution_count": 25,
   "metadata": {},
   "outputs": [],
   "source": [
    "def calc_intermediate_layers_loss(student_attentions, teacher_attentions, weights, student_teacher_attention_mapping):\n",
    "    intermediate_kl_loss = 0\n",
    "    for i, (stud_attn_idx, teach_attn_idx) in enumerate(student_teacher_attention_mapping.items()):\n",
    "        intermediate_kl_loss += weights[i] * kl_loss(\n",
    "            input=torch.log(student_attentions[stud_attn_idx]),\n",
    "            target=teacher_attentions[teach_attn_idx],\n",
    "        )\n",
    "    return intermediate_kl_loss"
   ]
  },
  {
   "cell_type": "code",
   "execution_count": 26,
   "metadata": {},
   "outputs": [],
   "source": [
    "def calc_intermediate_layers_feat_loss(student_feats, teacher_feats, weights):\n",
    "    intermediate_mse_loss = 0.\n",
    "    for i in range(len(student_feats)):\n",
    "        intermediate_mse_loss += weights[i] * mse_loss(\n",
    "            input=student_feats[i],\n",
    "            target=teacher_feats[i],\n",
    "        )\n",
    "    return intermediate_mse_loss"
   ]
  },
  {
   "cell_type": "code",
   "execution_count": 27,
   "metadata": {},
   "outputs": [],
   "source": [
    "train_params = TrainParams(\n",
    "    n_epochs=3,\n",
    "    lr=6e-5,\n",
    "    batch_size=8,\n",
    "    n_workers=8,\n",
    "    device=torch.device('cuda' if torch.cuda.is_available() else 'cpu'),\n",
    "    loss_weight=1,\n",
    "    last_layer_loss_weight=0.,\n",
    "    intermediate_attn_layers_weights=(0.5, 0.5, 0.5, 0.5),\n",
    "    intermediate_feat_layers_weights=(0.5, 0.5, 0.5, 0.5),\n",
    ")"
   ]
  },
  {
   "cell_type": "code",
   "execution_count": 28,
   "metadata": {},
   "outputs": [
    {
     "name": "stderr",
     "output_type": "stream",
     "text": [
      "\n",
      "otal loss: 2.771: 100%|█████████████████████████████████████████████████████████████████████████████████| 2526/2526 [09:55<00:00,  4.24it/s]"
     ]
    },
    {
     "name": "stdout",
     "output_type": "stream",
     "text": [
      "Mean_iou: 0.3225399390426699\n",
      "Mean accuracy: 0.4294977320749136\n"
     ]
    },
    {
     "name": "stderr",
     "output_type": "stream",
     "text": [
      "\n",
      "otal loss: 2.963: 100%|█████████████████████████████████████████████████████████████████████████████████| 2526/2526 [09:54<00:00,  4.25it/s]"
     ]
    },
    {
     "name": "stdout",
     "output_type": "stream",
     "text": [
      "Mean_iou: 0.33518421276488785\n",
      "Mean accuracy: 0.4314515815548881\n"
     ]
    },
    {
     "name": "stderr",
     "output_type": "stream",
     "text": [
      "\n",
      "otal loss: 2.896: 100%|█████████████████████████████████████████████████████████████████████████████████| 2526/2526 [09:55<00:00,  4.24it/s]"
     ]
    },
    {
     "name": "stdout",
     "output_type": "stream",
     "text": [
      "Mean_iou: 0.33927428285885625\n",
      "Mean accuracy: 0.43623544028562903\n"
     ]
    }
   ],
   "source": [
    "train(\n",
    "    teacher_model=teacher_model,\n",
    "    student_model=deepcopy(student_model),\n",
    "    train_params=train_params,\n",
    "    student_teacher_attention_mapping=student_teacher_attention_mapping,\n",
    "    tb_writer=tb_writer,\n",
    "    save_dir=save_dir,\n",
    ")"
   ]
  },
  {
   "cell_type": "code",
   "execution_count": 47,
   "metadata": {},
   "outputs": [],
   "source": [
    "# model.config.id2label"
   ]
  },
  {
   "cell_type": "code",
   "execution_count": 48,
   "metadata": {},
   "outputs": [],
   "source": [
    "# !cat ADEChallengeData2016/objectInfo150.txt"
   ]
  },
  {
   "cell_type": "code",
   "execution_count": 33,
   "metadata": {},
   "outputs": [
    {
     "data": {
      "text/plain": [
       "array([  0,   3,   4,   5,  12,  17,  31,  32,  42,  43,  87,  96, 104,\n",
       "       125, 138, 149, 255])"
      ]
     },
     "execution_count": 33,
     "metadata": {},
     "output_type": "execute_result"
    }
   ],
   "source": [
    "# import numpy as np \n",
    "# np.unique(train_dataset[0]['labels'].numpy())"
   ]
  },
  {
   "cell_type": "code",
   "execution_count": 49,
   "metadata": {},
   "outputs": [],
   "source": [
    "# train_dataset.get_name_file(0)"
   ]
  },
  {
   "cell_type": "code",
   "execution_count": 50,
   "metadata": {},
   "outputs": [
    {
     "name": "stdout",
     "output_type": "stream",
     "text": [
      "ckpt_0.pth\n",
      "ckpt_1.pth\n",
      "ckpt_2.pth\n",
      "events.out.tfevents.1734576225.archlinux.8485.0\n",
      "events.out.tfevents.1734576943.archlinux.10931.0\n",
      "events.out.tfevents.1734577628.archlinux.12550.0\n",
      "events.out.tfevents.1734578383.archlinux.14706.0\n"
     ]
    }
   ],
   "source": [
    "!ls distil"
   ]
  },
  {
   "cell_type": "code",
   "execution_count": 85,
   "metadata": {},
   "outputs": [
    {
     "name": "stderr",
     "output_type": "stream",
     "text": [
      "/tmp/ipykernel_14706/2204379903.py:1: FutureWarning: You are using `torch.load` with `weights_only=False` (the current default value), which uses the default pickle module implicitly. It is possible to construct malicious pickle data which will execute arbitrary code during unpickling (See https://github.com/pytorch/pytorch/blob/main/SECURITY.md#untrusted-models for more details). In a future release, the default value for `weights_only` will be flipped to `True`. This limits the functions that could be executed during unpickling. Arbitrary objects will no longer be allowed to be loaded via this mode unless they are explicitly allowlisted by the user via `torch.serialization.add_safe_globals`. We recommend you start setting `weights_only=True` for any use case where you don't have full control of the loaded file. Please open an issue on GitHub for any issues related to this experimental feature.\n",
      "  distilled_model = torch.load('distil/ckpt_2.pth')[\"model\"]\n"
     ]
    }
   ],
   "source": [
    "distilled_model = torch.load('distil/ckpt_2.pth')[\"model\"]\n",
    "teacher_model = SegformerForSemanticSegmentation.from_pretrained(\"nvidia/segformer-b0-finetuned-ade-512-512\")\n",
    "teacher_model.to(device)\n",
    "None"
   ]
  },
  {
   "cell_type": "code",
   "execution_count": 52,
   "metadata": {},
   "outputs": [
    {
     "name": "stdout",
     "output_type": "stream",
     "text": [
      "Mean_iou: 0.33627428285885625\n",
      "Mean accuracy: 0.43623544028562903\n"
     ]
    }
   ],
   "source": [
    "evaluate_model(distilled_model, valid_dataloader, distilled_model.config.id2label)\n",
    "None"
   ]
  },
  {
   "cell_type": "code",
   "execution_count": 53,
   "metadata": {},
   "outputs": [
    {
     "name": "stdout",
     "output_type": "stream",
     "text": [
      "Mean_iou: 0.36103305469415725\n",
      "Mean accuracy: 0.4731817117838845\n"
     ]
    }
   ],
   "source": [
    "evaluate_model(teacher_model, valid_dataloader, teacher_model.config.id2label)\n",
    "None"
   ]
  },
  {
   "cell_type": "code",
   "execution_count": null,
   "metadata": {},
   "outputs": [],
   "source": []
  },
  {
   "cell_type": "code",
   "execution_count": 86,
   "metadata": {},
   "outputs": [
    {
     "name": "stdout",
     "output_type": "stream",
     "text": [
      "Baseline model complexity: 7384.410112 MMAC, 3.752694 M params\n"
     ]
    }
   ],
   "source": [
    "import torch_pruning as tp\n",
    "input_example = torch.rand(1,3,512,512, device=\"cuda\")\n",
    "ops, params = tp.utils.count_ops_and_params(teacher_model, input_example)\n",
    "print(f\"Baseline model complexity: {ops/1e6} MMAC, {params/1e6} M params\")"
   ]
  },
  {
   "cell_type": "code",
   "execution_count": 87,
   "metadata": {},
   "outputs": [
    {
     "name": "stdout",
     "output_type": "stream",
     "text": [
      "Distilled model complexity: 6465.00096 MMAC, 2.336246 M params\n"
     ]
    }
   ],
   "source": [
    "ops, params = tp.utils.count_ops_and_params(distilled_model, input_example)\n",
    "print(f\"Distilled model complexity: {ops/1e6} MMAC, {params/1e6} M params\")"
   ]
  },
  {
   "cell_type": "code",
   "execution_count": 88,
   "metadata": {},
   "outputs": [],
   "source": [
    "import gc\n",
    "model = None\n",
    "torch.cuda.empty_cache()"
   ]
  },
  {
   "cell_type": "code",
   "execution_count": 89,
   "metadata": {},
   "outputs": [],
   "source": [
    "import torch_pruning as tp\n",
    "taylor_criteria = tp.importance.GroupTaylorImportance()\n",
    "input_example = torch.rand(1,3,512,512, device=\"cuda\")\n",
    "ignored_layers = []\n",
    "for name, module in distilled_model.named_modules():\n",
    "    if name == \"decode_head.classifier\":\n",
    "        ignored_layers.append(module)\n",
    "\n",
    "pruner = tp.pruner.MetaPruner(\n",
    "        distilled_model,\n",
    "        example_inputs=input_example,\n",
    "        importance=taylor_criteria,\n",
    "        pruning_ratio=0.75,\n",
    "        global_pruning=False,\n",
    "        ignored_layers=ignored_layers,\n",
    "    )"
   ]
  },
  {
   "cell_type": "code",
   "execution_count": 90,
   "metadata": {},
   "outputs": [
    {
     "name": "stderr",
     "output_type": "stream",
     "text": [
      "\n",
      "00%|████████████████████████████████████████████████████████████████████████████████████████████████████| 2526/2526 [06:00<00:00,  7.01it/s]"
     ]
    }
   ],
   "source": [
    "distilled_model.train()\n",
    "for idx, batch in enumerate(tqdm(train_dataloader)):\n",
    "    # get the inputs;\n",
    "    pixel_values = batch[\"pixel_values\"].to(\"cuda\")\n",
    "    labels = batch[\"labels\"].to(\"cuda\")\n",
    "\n",
    "    # forward + backward + optimize\n",
    "    outputs = distilled_model(pixel_values=pixel_values, labels=labels)\n",
    "    loss, logits = outputs.loss, outputs.logits\n",
    "\n",
    "    loss.backward()"
   ]
  },
  {
   "cell_type": "code",
   "execution_count": 91,
   "metadata": {},
   "outputs": [],
   "source": [
    "for i, g in enumerate(pruner.step(interactive=True)):\n",
    "    g.prune()"
   ]
  },
  {
   "cell_type": "code",
   "execution_count": 92,
   "metadata": {},
   "outputs": [],
   "source": [
    "from transformers.models.segformer.modeling_segformer import SegformerLayer, SegformerEfficientSelfAttention\n",
    "\n",
    "for module in distilled_model.modules():\n",
    "    if isinstance(module, SegformerEfficientSelfAttention):\n",
    "        module.attention_head_size = module.attention_head_size // 4\n",
    "        module.all_head_size = module.all_head_size // 4"
   ]
  },
  {
   "cell_type": "code",
   "execution_count": 93,
   "metadata": {},
   "outputs": [
    {
     "name": "stdout",
     "output_type": "stream",
     "text": [
      "Distilled model complexity (After taylor pruning): 550.512 MMAC, 0.160238 M params\n"
     ]
    }
   ],
   "source": [
    "ops, params = tp.utils.count_ops_and_params(distilled_model, input_example)\n",
    "print(f\"Distilled model complexity (After taylor pruning): {ops/1e6} MMAC, {params/1e6} M params\")"
   ]
  },
  {
   "cell_type": "code",
   "execution_count": 94,
   "metadata": {},
   "outputs": [],
   "source": [
    "save_dir = 'prune'\n",
    "tb_writer = SummaryWriter(save_dir)"
   ]
  },
  {
   "cell_type": "code",
   "execution_count": 95,
   "metadata": {},
   "outputs": [],
   "source": [
    "import typing\n",
    "@dataclass\n",
    "class TrainParams:\n",
    "    n_epochs: int\n",
    "    lr: float\n",
    "    batch_size: int\n",
    "    n_workers: int\n",
    "    device: torch.device\n",
    "\n",
    "    temperature: float\n",
    "    loss_weight: float\n",
    "    last_layer_loss_weight: float\n",
    "    intermediate_layers_weights: typing.Tuple[float, float, float, float]\n",
    "train_params = TrainParams(\n",
    "    n_epochs=10,\n",
    "    lr=1e-4,\n",
    "    batch_size=16,\n",
    "    n_workers=8,\n",
    "    device=torch.device('cuda' if torch.cuda.is_available() else 'cpu'),\n",
    "    temperature=10,\n",
    "    loss_weight=0.5,\n",
    "    last_layer_loss_weight=0.5,\n",
    "    intermediate_layers_weights=(0.5, 0.5, 0.5, 0.5),\n",
    ")"
   ]
  },
  {
   "cell_type": "code",
   "execution_count": 96,
   "metadata": {},
   "outputs": [],
   "source": [
    "\n",
    "def calc_last_layer_loss(student_logits, teacher_logits, temperature, weight):\n",
    "    return kl_loss(\n",
    "        input=F.log_softmax(student_logits / temperature, dim=-1),\n",
    "        target=F.softmax(teacher_logits / temperature, dim=-1),\n",
    "    ) * temperature ** 2\n",
    "    return loss\n",
    "\n",
    "def calc_intermediate_layers_loss(student_attentions, teacher_attentions, weights, student_teacher_attention_mapping):\n",
    "    intermediate_kl_loss = 0\n",
    "    for i, (stud_attn_idx, teach_attn_idx) in enumerate(student_teacher_attention_mapping.items()):\n",
    "        intermediate_kl_loss += weights[i] * kl_loss(\n",
    "            input=torch.log(student_attentions[stud_attn_idx]),\n",
    "            target=teacher_attentions[teach_attn_idx],\n",
    "        )\n",
    "    return intermediate_kl_loss\n",
    "\n",
    "def train(\n",
    "    teacher_model,\n",
    "    student_model,\n",
    "    train_params: TrainParams,\n",
    "    student_teacher_attention_mapping,\n",
    "    tb_writer,\n",
    "    save_dir,\n",
    "):\n",
    "    metric = evaluate.load('mean_iou')\n",
    "    teacher_model.to(train_params.device)\n",
    "    student_model.to(train_params.device)\n",
    "\n",
    "    teacher_model.eval()\n",
    "\n",
    " \n",
    "\n",
    "    optimizer = torch.optim.AdamW(student_model.parameters(), lr=train_params.lr)\n",
    "    step = 0\n",
    "    for epoch in range(train_params.n_epochs):\n",
    "        pbar = tqdm(enumerate(train_dataloader), total=len(train_dataloader))\n",
    "        for idx, batch in pbar:\n",
    "            student_model.train()\n",
    "            pixel_values = batch['pixel_values'].to(train_params.device)\n",
    "            labels = batch['labels'].to(train_params.device)\n",
    "\n",
    "            optimizer.zero_grad()\n",
    "\n",
    "            student_outputs = student_model(pixel_values=pixel_values, labels=labels, output_attentions=True)\n",
    "            loss, student_logits = student_outputs.loss, student_outputs.logits\n",
    "\n",
    "            with torch.no_grad():\n",
    "                teacher_output = teacher_model(pixel_values=pixel_values, labels=labels, output_attentions=True)\n",
    "\n",
    "\n",
    "            last_layer_loss = calc_last_layer_loss(\n",
    "                student_logits,\n",
    "                teacher_output.logits,\n",
    "                train_params.temperature,\n",
    "                train_params.last_layer_loss_weight,\n",
    "            )\n",
    "\n",
    "            student_attentions, teacher_attentions = student_outputs.attentions, teacher_output.attentions\n",
    "\n",
    "            intermediate_layer_loss = calc_intermediate_layers_loss(\n",
    "                student_attentions,\n",
    "                teacher_attentions,\n",
    "                train_params.intermediate_layers_weights,\n",
    "                student_teacher_attention_mapping,\n",
    "            )\n",
    "\n",
    "            total_loss = loss * train_params.loss_weight + last_layer_loss\n",
    "            if intermediate_layer_loss is not None:\n",
    "                total_loss += intermediate_layer_loss\n",
    "\n",
    "            step += 1\n",
    "\n",
    "            total_loss.backward()\n",
    "            optimizer.step()\n",
    "            pbar.set_description(f'total loss: {total_loss.item():.3f}')\n",
    "\n",
    "            for loss_value, loss_name in (\n",
    "                (loss, 'loss'),\n",
    "                (total_loss, 'total_loss'),\n",
    "                (last_layer_loss, 'last_layer_loss'),\n",
    "                (intermediate_layer_loss, 'intermediate_loss'),\n",
    "\n",
    "            ):\n",
    "                if loss_value is None: \n",
    "                    continue\n",
    "                tb_writer.add_scalar(\n",
    "                    tag='loss_name',\n",
    "                    scalar_value=loss_value.item(),\n",
    "                    global_step=step,\n",
    "                )\n",
    "\n",
    "        torch.save(\n",
    "            {\n",
    "                'model': student_model,\n",
    "                'state_dict': student_model.state_dict(),\n",
    "                'optimizer_state': optimizer.state_dict(),\n",
    "            },\n",
    "            f'{save_dir}/ckpt_{epoch}.pth',\n",
    "        )\n",
    "\n",
    "        eval_metrics = evaluate_model(student_model, valid_dataloader, student_model.config.id2label)\n",
    "\n",
    "        for metric_key, metric_value in eval_metrics.items():\n",
    "            if not isinstance(metric_value, float):\n",
    "                continue\n",
    "            tb_writer.add_scalar(\n",
    "                tag=f'eval_{metric_key}',\n",
    "                scalar_value=metric_value,\n",
    "                global_step=epoch,\n",
    "            )\n",
    "\n"
   ]
  },
  {
   "cell_type": "code",
   "execution_count": 97,
   "metadata": {},
   "outputs": [
    {
     "name": "stderr",
     "output_type": "stream",
     "text": [
      "\n",
      "otal loss: 1.158: 100%|█████████████████████████████████████████████████████████████████████████████████| 2526/2526 [08:40<00:00,  4.85it/s]"
     ]
    },
    {
     "name": "stdout",
     "output_type": "stream",
     "text": [
      "Mean_iou: 0.203162984490462\n",
      "Mean accuracy: 0.27617739104473876\n"
     ]
    },
    {
     "name": "stderr",
     "output_type": "stream",
     "text": [
      "\n",
      "otal loss: 0.905: 100%|█████████████████████████████████████████████████████████████████████████████████| 2526/2526 [08:41<00:00,  4.84it/s]"
     ]
    },
    {
     "name": "stdout",
     "output_type": "stream",
     "text": [
      "Mean_iou: 0.2359690789724595\n",
      "Mean accuracy: 0.30320209761347188\n"
     ]
    },
    {
     "name": "stderr",
     "output_type": "stream",
     "text": [
      "\n",
      "otal loss: 0.951: 100%|█████████████████████████████████████████████████████████████████████████████████| 2526/2526 [08:41<00:00,  4.84it/s]"
     ]
    },
    {
     "name": "stdout",
     "output_type": "stream",
     "text": [
      "Mean_iou: 0.254198045234024574\n",
      "Mean accuracy: 0.32577089057276448\n"
     ]
    },
    {
     "name": "stderr",
     "output_type": "stream",
     "text": [
      "\n",
      "otal loss: 1.120: 100%|█████████████████████████████████████████████████████████████████████████████████| 2526/2526 [08:40<00:00,  4.85it/s]"
     ]
    },
    {
     "name": "stdout",
     "output_type": "stream",
     "text": [
      "Mean_iou: 0.27636647347537965\n",
      "Mean accuracy: 0.357638286365548505\n"
     ]
    },
    {
     "name": "stderr",
     "output_type": "stream",
     "text": [
      "\n",
      "otal loss: 1.054: 100%|█████████████████████████████████████████████████████████████████████████████████| 2526/2526 [08:40<00:00,  4.85it/s]"
     ]
    },
    {
     "name": "stdout",
     "output_type": "stream",
     "text": [
      "Mean_iou: 0.29115568926948165\n",
      "Mean accuracy: 0.3725840250266807\n"
     ]
    },
    {
     "name": "stderr",
     "output_type": "stream",
     "text": [
      "\n",
      "otal loss: 0.841:   0%|▏                                                                                   | 4/2526 [00:01<15:26,  2.72it/s]"
     ]
    },
    {
     "ename": "KeyboardInterrupt",
     "evalue": "",
     "output_type": "error",
     "traceback": [
      "\u001b[0;31m---------------------------------------------------------------------------\u001b[0m",
      "\u001b[0;31mKeyboardInterrupt\u001b[0m                         Traceback (most recent call last)",
      "Cell \u001b[0;32mIn[97], line 1\u001b[0m\n\u001b[0;32m----> 1\u001b[0m \u001b[43mtrain\u001b[49m\u001b[43m(\u001b[49m\n\u001b[1;32m      2\u001b[0m \u001b[43m    \u001b[49m\u001b[43mteacher_model\u001b[49m\u001b[38;5;241;43m=\u001b[39;49m\u001b[43mteacher_model\u001b[49m\u001b[43m,\u001b[49m\n\u001b[1;32m      3\u001b[0m \u001b[43m    \u001b[49m\u001b[43mstudent_model\u001b[49m\u001b[38;5;241;43m=\u001b[39;49m\u001b[43mdeepcopy\u001b[49m\u001b[43m(\u001b[49m\u001b[43mdistilled_model\u001b[49m\u001b[43m)\u001b[49m\u001b[43m,\u001b[49m\n\u001b[1;32m      4\u001b[0m \u001b[43m    \u001b[49m\u001b[43mtrain_params\u001b[49m\u001b[38;5;241;43m=\u001b[39;49m\u001b[43mtrain_params\u001b[49m\u001b[43m,\u001b[49m\n\u001b[1;32m      5\u001b[0m \u001b[43m    \u001b[49m\u001b[43mstudent_teacher_attention_mapping\u001b[49m\u001b[38;5;241;43m=\u001b[39;49m\u001b[43mstudent_teacher_attention_mapping\u001b[49m\u001b[43m,\u001b[49m\n\u001b[1;32m      6\u001b[0m \u001b[43m    \u001b[49m\u001b[43mtb_writer\u001b[49m\u001b[38;5;241;43m=\u001b[39;49m\u001b[43mtb_writer\u001b[49m\u001b[43m,\u001b[49m\n\u001b[1;32m      7\u001b[0m \u001b[43m    \u001b[49m\u001b[43msave_dir\u001b[49m\u001b[38;5;241;43m=\u001b[39;49m\u001b[43msave_dir\u001b[49m\u001b[43m,\u001b[49m\n\u001b[1;32m      8\u001b[0m \u001b[43m)\u001b[49m\n",
      "Cell \u001b[0;32mIn[96], line 38\u001b[0m, in \u001b[0;36mtrain\u001b[0;34m(teacher_model, student_model, train_params, student_teacher_attention_mapping, tb_writer, save_dir)\u001b[0m\n\u001b[1;32m     36\u001b[0m pbar \u001b[38;5;241m=\u001b[39m tqdm(\u001b[38;5;28menumerate\u001b[39m(train_dataloader), total\u001b[38;5;241m=\u001b[39m\u001b[38;5;28mlen\u001b[39m(train_dataloader))\n\u001b[1;32m     37\u001b[0m \u001b[38;5;28;01mfor\u001b[39;00m idx, batch \u001b[38;5;129;01min\u001b[39;00m pbar:\n\u001b[0;32m---> 38\u001b[0m     \u001b[43mstudent_model\u001b[49m\u001b[38;5;241;43m.\u001b[39;49m\u001b[43mtrain\u001b[49m\u001b[43m(\u001b[49m\u001b[43m)\u001b[49m\n\u001b[1;32m     39\u001b[0m     \u001b[38;5;66;03m# get the inputs;\u001b[39;00m\n\u001b[1;32m     40\u001b[0m     pixel_values \u001b[38;5;241m=\u001b[39m batch[\u001b[38;5;124m'\u001b[39m\u001b[38;5;124mpixel_values\u001b[39m\u001b[38;5;124m'\u001b[39m]\u001b[38;5;241m.\u001b[39mto(train_params\u001b[38;5;241m.\u001b[39mdevice)\n",
      "File \u001b[0;32m~/test/venv/lib/python3.12/site-packages/torch/nn/modules/module.py:2827\u001b[0m, in \u001b[0;36mModule.train\u001b[0;34m(self, mode)\u001b[0m\n\u001b[1;32m   2822\u001b[0m             submodule_prefix \u001b[38;5;241m=\u001b[39m prefix \u001b[38;5;241m+\u001b[39m (\u001b[38;5;124m\"\u001b[39m\u001b[38;5;124m.\u001b[39m\u001b[38;5;124m\"\u001b[39m \u001b[38;5;28;01mif\u001b[39;00m prefix \u001b[38;5;28;01melse\u001b[39;00m \u001b[38;5;124m\"\u001b[39m\u001b[38;5;124m\"\u001b[39m) \u001b[38;5;241m+\u001b[39m name\n\u001b[1;32m   2823\u001b[0m             \u001b[38;5;28;01myield from\u001b[39;00m module\u001b[38;5;241m.\u001b[39mnamed_modules(\n\u001b[1;32m   2824\u001b[0m                 memo, submodule_prefix, remove_duplicate\n\u001b[1;32m   2825\u001b[0m             )\n\u001b[0;32m-> 2827\u001b[0m \u001b[38;5;28;01mdef\u001b[39;00m \u001b[38;5;21mtrain\u001b[39m(\u001b[38;5;28mself\u001b[39m: T, mode: \u001b[38;5;28mbool\u001b[39m \u001b[38;5;241m=\u001b[39m \u001b[38;5;28;01mTrue\u001b[39;00m) \u001b[38;5;241m-\u001b[39m\u001b[38;5;241m>\u001b[39m T:\n\u001b[1;32m   2828\u001b[0m \u001b[38;5;250m    \u001b[39m\u001b[38;5;124mr\u001b[39m\u001b[38;5;124;03m\"\"\"Set the module in training mode.\u001b[39;00m\n\u001b[1;32m   2829\u001b[0m \n\u001b[1;32m   2830\u001b[0m \u001b[38;5;124;03m    This has any effect only on certain modules. See documentations of\u001b[39;00m\n\u001b[0;32m   (...)\u001b[0m\n\u001b[1;32m   2840\u001b[0m \u001b[38;5;124;03m        Module: self\u001b[39;00m\n\u001b[1;32m   2841\u001b[0m \u001b[38;5;124;03m    \"\"\"\u001b[39;00m\n\u001b[1;32m   2842\u001b[0m     \u001b[38;5;28;01mif\u001b[39;00m \u001b[38;5;129;01mnot\u001b[39;00m \u001b[38;5;28misinstance\u001b[39m(mode, \u001b[38;5;28mbool\u001b[39m):\n",
      "\u001b[0;31mKeyboardInterrupt\u001b[0m: "
     ]
    }
   ],
   "source": [
    "train(\n",
    "    teacher_model=teacher_model,\n",
    "    student_model=deepcopy(distilled_model),\n",
    "    train_params=train_params,\n",
    "    student_teacher_attention_mapping=student_teacher_attention_mapping,\n",
    "    tb_writer=tb_writer,\n",
    "    save_dir=save_dir,\n",
    ")"
   ]
  },
  {
   "cell_type": "code",
   "execution_count": 99,
   "metadata": {},
   "outputs": [
    {
     "name": "stdout",
     "output_type": "stream",
     "text": [
      "ckpt_0.pth  ckpt_4.pth\n",
      "ckpt_1.pth  events.out.tfevents.1734581428.archlinux.14706.1\n",
      "ckpt_2.pth  events.out.tfevents.1734583012.archlinux.14706.2\n",
      "ckpt_3.pth\n"
     ]
    }
   ],
   "source": [
    "!ls prune"
   ]
  },
  {
   "cell_type": "code",
   "execution_count": 102,
   "metadata": {},
   "outputs": [
    {
     "name": "stderr",
     "output_type": "stream",
     "text": [
      "/tmp/ipykernel_14706/3290740123.py:1: FutureWarning: You are using `torch.load` with `weights_only=False` (the current default value), which uses the default pickle module implicitly. It is possible to construct malicious pickle data which will execute arbitrary code during unpickling (See https://github.com/pytorch/pytorch/blob/main/SECURITY.md#untrusted-models for more details). In a future release, the default value for `weights_only` will be flipped to `True`. This limits the functions that could be executed during unpickling. Arbitrary objects will no longer be allowed to be loaded via this mode unless they are explicitly allowlisted by the user via `torch.serialization.add_safe_globals`. We recommend you start setting `weights_only=True` for any use case where you don't have full control of the loaded file. Please open an issue on GitHub for any issues related to this experimental feature.\n",
      "  prune_distilled_model = torch.load('prune/ckpt_4.pth')[\"model\"]\n"
     ]
    }
   ],
   "source": [
    "prune_distilled_model = torch.load('prune/ckpt_4.pth')[\"model\"]\n",
    "teacher_model = SegformerForSemanticSegmentation.from_pretrained(\"nvidia/segformer-b0-finetuned-ade-512-512\")\n",
    "teacher_model.to(device)\n",
    "model = None\n",
    "distilled_model =None\n",
    "torch.cuda.empty_cache()"
   ]
  },
  {
   "cell_type": "code",
   "execution_count": 104,
   "metadata": {},
   "outputs": [
    {
     "name": "stdout",
     "output_type": "stream",
     "text": [
      "Mean_iou: 0.29115568926948165\n",
      "Mean accuracy: 0.3725840250266807\n"
     ]
    }
   ],
   "source": [
    "evaluate_model(prune_distilled_model, valid_dataloader, prune_distilled_model.config.id2label)\n",
    "None"
   ]
  },
  {
   "cell_type": "code",
   "execution_count": 105,
   "metadata": {},
   "outputs": [],
   "source": [
    "import gc\n",
    "model = None\n",
    "torch.cuda.empty_cache()"
   ]
  },
  {
   "cell_type": "code",
   "execution_count": 106,
   "metadata": {},
   "outputs": [],
   "source": [
    "from copy import deepcopy\n",
    "from itertools import islice\n",
    "\n",
    "import torch\n",
    "from torch import nn\n",
    "from torch.ao.quantization import get_default_qconfig_mapping\n",
    "from torch.quantization.quantize_fx import convert_fx\n",
    "from torch.quantization.quantize_fx import prepare_fx\n",
    "from torch.utils.data import DataLoader\n",
    "QCONFIG_MAPPING = get_default_qconfig_mapping(\"x86\")\n",
    "\n",
    "def quantize_static(\n",
    "        model: nn.Module,\n",
    "        data_loader: DataLoader,\n",
    "        num_batches: int = 8,\n",
    "        device: str = 'cuda'\n",
    ") -> nn.Module:\n",
    "  \n",
    "    prepared_model = deepcopy(model)\n",
    "    prepared_model.eval()\n",
    "    example_input = next(iter(data_loader))\n",
    "    prepared_model = prepare_fx(\n",
    "        model=prepared_model,\n",
    "        qconfig_mapping=QCONFIG_MAPPING,\n",
    "        example_inputs=(example_input, ),\n",
    "    )\n",
    "   \n",
    "    device = torch.device(device)\n",
    "\n",
    "    prepared_model.eval()\n",
    "    prepared_model.to(device)\n",
    "\n",
    "    with torch.no_grad():\n",
    "        for image, _ in islice(data_loader, num_batches):\n",
    "            prepared_model(image.to(device))\n",
    "\n",
    " \n",
    "    prepared_model.cpu()\n",
    "    quantized_model = convert_fx(prepared_model)\n",
    "    return quantized_model"
   ]
  },
  {
   "cell_type": "code",
   "execution_count": 107,
   "metadata": {},
   "outputs": [
    {
     "name": "stdout",
     "output_type": "stream",
     "text": [
      "ADEChallengeData2016/images/validation\n"
     ]
    }
   ],
   "source": [
    "calibrate_ds = SemanticSegmentationDataset(root_dir=root_dir, image_processor=image_processor, train=False)\n",
    "calibrate_dataloader = DataLoader(calibrate_ds, batch_size=batch_size,num_workers=14,)"
   ]
  },
  {
   "cell_type": "code",
   "execution_count": 109,
   "metadata": {},
   "outputs": [],
   "source": [
    "# qaunt_prune_distilled_model =quantize_static(deepcopy(prune_distilled_model), calibrate_dataloader, num_batches=1)"
   ]
  },
  {
   "cell_type": "code",
   "execution_count": 115,
   "metadata": {},
   "outputs": [],
   "source": [
    "# qaunt_prune_distilled_model = torch.quantization.quantize_dynamic(\n",
    "#     deepcopy(prune_distilled_model), dtype=torch.qint8\n",
    "# )\n"
   ]
  },
  {
   "cell_type": "code",
   "execution_count": 114,
   "metadata": {},
   "outputs": [],
   "source": [
    "# evaluate_model(qaunt_prune_distilled_model, valid_dataloader, qaunt_prune_distilled_model.config.id2label)\n",
    "# None"
   ]
  },
  {
   "cell_type": "code",
   "execution_count": 124,
   "metadata": {},
   "outputs": [],
   "source": [
    "from datetime import timedelta\n",
    "import time\n",
    "from PIL import Image\n",
    "import torch\n",
    "import numpy as np  \n",
    "\n",
    "def test_pt(model_test ,batch=1,it=30):\n",
    "    with torch.inference_mode():\n",
    "        torch.cuda.synchronize()\n",
    "        #warm up \n",
    "        input_example = torch.rand(batch,3,512,512, device=\"cuda\")\n",
    "    \n",
    "        for _ in range(10):\n",
    "            model_test(input_example)\n",
    "            torch.cuda.synchronize()\n",
    "    \n",
    "            \n",
    "        starttime = time.perf_counter()\n",
    "        for _ in range(it):\n",
    "            model_test(input_example)\n",
    "            torch.cuda.synchronize()\n",
    "    \n",
    "        return timedelta(seconds=time.perf_counter()-starttime)/it\n"
   ]
  },
  {
   "cell_type": "code",
   "execution_count": 140,
   "metadata": {},
   "outputs": [],
   "source": [
    "b_o_1 = test_pt(prune_distilled_model).microseconds"
   ]
  },
  {
   "cell_type": "code",
   "execution_count": 133,
   "metadata": {},
   "outputs": [
    {
     "name": "stdout",
     "output_type": "stream",
     "text": [
      "Mean_iou: 0.29115568926948165\n",
      "Mean accuracy: 0.3725840250266807\n"
     ]
    }
   ],
   "source": [
    "m_o = evaluate_model(prune_distilled_model, valid_dataloader, prune_distilled_model.config.id2label)\n",
    "None"
   ]
  },
  {
   "cell_type": "code",
   "execution_count": 134,
   "metadata": {},
   "outputs": [],
   "source": [
    "b_t_1 = test_pt(teacher_model).microseconds"
   ]
  },
  {
   "cell_type": "code",
   "execution_count": 135,
   "metadata": {},
   "outputs": [
    {
     "name": "stdout",
     "output_type": "stream",
     "text": [
      "Mean_iou: 0.36103305469415725\n",
      "Mean accuracy: 0.4731817117838845\n"
     ]
    }
   ],
   "source": [
    "m_t = evaluate_model(teacher_model, valid_dataloader, prune_distilled_model.config.id2label)\n",
    "None"
   ]
  },
  {
   "cell_type": "code",
   "execution_count": 136,
   "metadata": {},
   "outputs": [],
   "source": [
    "b_o_10 = test_pt(prune_distilled_model,10).microseconds"
   ]
  },
  {
   "cell_type": "code",
   "execution_count": 137,
   "metadata": {},
   "outputs": [],
   "source": [
    "b_t_10=test_pt(teacher_model,10).microseconds"
   ]
  },
  {
   "cell_type": "code",
   "execution_count": 138,
   "metadata": {},
   "outputs": [],
   "source": [
    "b_o_20 = test_pt(prune_distilled_model,20).microseconds"
   ]
  },
  {
   "cell_type": "code",
   "execution_count": 139,
   "metadata": {},
   "outputs": [],
   "source": [
    "b_t_20 = test_pt(teacher_model,20).microseconds"
   ]
  },
  {
   "cell_type": "code",
   "execution_count": 141,
   "metadata": {},
   "outputs": [
    {
     "data": {
      "text/plain": [
       "3.6833816244508832"
      ]
     },
     "execution_count": 141,
     "metadata": {},
     "output_type": "execute_result"
    }
   ],
   "source": [
    "b_t_20/b_o_20"
   ]
  },
  {
   "cell_type": "code",
   "execution_count": 143,
   "metadata": {},
   "outputs": [
    {
     "data": {
      "text/plain": [
       "3.5491360212671688"
      ]
     },
     "execution_count": 143,
     "metadata": {},
     "output_type": "execute_result"
    }
   ],
   "source": [
    "b_t_10/b_o_10"
   ]
  },
  {
   "cell_type": "code",
   "execution_count": 142,
   "metadata": {},
   "outputs": [
    {
     "data": {
      "text/plain": [
       "2.1645207439198857"
      ]
     },
     "execution_count": 142,
     "metadata": {},
     "output_type": "execute_result"
    }
   ],
   "source": [
    "b_t_1/b_o_1"
   ]
  },
  {
   "cell_type": "code",
   "execution_count": 149,
   "metadata": {},
   "outputs": [],
   "source": [
    "test_opt =[]\n",
    "test_base = []\n",
    "for i in range(1,20,3):\n",
    "    test_opt.append(test_pt(prune_distilled_model,i).microseconds)\n",
    "    test_base.append(test_pt(teacher_model,i).microseconds)\n",
    "    "
   ]
  },
  {
   "cell_type": "code",
   "execution_count": 185,
   "metadata": {},
   "outputs": [
    {
     "data": {
      "image/png": "[encoded data removed]",
      "text/plain": [
       "<Figure size 640x480 with 1 Axes>"
      ]
     },
     "metadata": {},
     "output_type": "display_data"
    }
   ],
   "source": [
    "import matplotlib.pyplot as plt\n",
    "plt.plot(list(range(1,20,3)),test_opt , list(range(1,20,3)),test_base ,marker = 'o')\n",
    "plt.show()"
   ]
  },
  {
   "cell_type": "code",
   "execution_count": 186,
   "metadata": {},
   "outputs": [
    {
     "data": {
      "text/plain": [
       "3.682554532473288"
      ]
     },
     "execution_count": 186,
     "metadata": {},
     "output_type": "execute_result"
    }
   ],
   "source": [
    "test_base[-1]/test_opt[-1]"
   ]
  },
  {
   "cell_type": "code",
   "execution_count": 182,
   "metadata": {},
   "outputs": [
    {
     "data": {
      "text/plain": [
       "(np.float64(0.29115568926948165),\n",
       " np.float64(0.36103305469415725),\n",
       " np.float64(0.3725840250266807),\n",
       " np.float64(0.4731817117838845))"
      ]
     },
     "execution_count": 182,
     "metadata": {},
     "output_type": "execute_result"
    }
   ],
   "source": [
    "m_o['mean_iou'],m_t['mean_iou'],m_o['mean_accuracy'],m_t['mean_accuracy']"
   ]
  },
  {
   "cell_type": "code",
   "execution_count": 183,
   "metadata": {},
   "outputs": [
    {
     "data": {
      "text/plain": [
       "(0.8064516129032258, 0.7874015748031495)"
      ]
     },
     "execution_count": 183,
     "metadata": {},
     "output_type": "execute_result"
    }
   ],
   "source": [
    "float(m_o['mean_iou']/m_t['mean_iou']),float(m_o['mean_accuracy']/m_t['mean_accuracy'])"
   ]
  },
  {
   "cell_type": "code",
   "execution_count": 184,
   "metadata": {},
   "outputs": [
    {
     "data": {
      "text/plain": [
       "<BarContainer object of 4 artists>"
      ]
     },
     "execution_count": 184,
     "metadata": {},
     "output_type": "execute_result"
    },
    {
     "data": {
      "image/png": "[encoded data removed]",
      "text/plain": [
       "<Figure size 640x480 with 1 Axes>"
      ]
     },
     "metadata": {},
     "output_type": "display_data"
    }
   ],
   "source": [
    "plt.bar(\n",
    "    ['mean_iou_base','mean_iou_opt','mean_accuracy_base','mean_accuracy_opt'],\n",
    "    [m_t['mean_iou'],m_o['mean_iou'],m_t['mean_accuracy'],m_o['mean_accuracy']]  ,align='edge'\n",
    ")"
   ]
  },
  {
   "cell_type": "code",
   "execution_count": null,
   "metadata": {},
   "outputs": [],
   "source": []
  }
 ],
 "metadata": {
  "kaggle": {
   "accelerator": "none",
   "dataSources": [
    {
     "datasetId": 2339351,
     "sourceId": 3970685,
     "sourceType": "datasetVersion"
    }
   ],
   "dockerImageVersionId": 30822,
   "isGpuEnabled": false,
   "isInternetEnabled": true,
   "language": "python",
   "sourceType": "notebook"
  },
  "kernelspec": {
   "display_name": "venv",
   "language": "python",
   "name": "venv"
  },
  "language_info": {
   "codemirror_mode": {
    "name": "ipython",
    "version": 3
   },
   "file_extension": ".py",
   "mimetype": "text/x-python",
   "name": "python",
   "nbconvert_exporter": "python",
   "pygments_lexer": "ipython3",
   "version": "3.12.7"
  }
 },
 "nbformat": 4,
 "nbformat_minor": 4
}
